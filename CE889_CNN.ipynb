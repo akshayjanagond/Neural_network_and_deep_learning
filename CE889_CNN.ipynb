{
  "nbformat": 4,
  "nbformat_minor": 0,
  "metadata": {
    "colab": {
      "provenance": []
    },
    "kernelspec": {
      "name": "python3",
      "display_name": "Python 3"
    },
    "language_info": {
      "name": "python"
    }
  },
  "cells": [
    {
      "cell_type": "code",
      "execution_count": 62,
      "metadata": {
        "colab": {
          "base_uri": "https://localhost:8080/"
        },
        "id": "wRhmPnkrhEoD",
        "outputId": "aabb577b-8fbb-4143-cf8d-77caddc1c72a"
      },
      "outputs": [
        {
          "output_type": "execute_result",
          "data": {
            "text/plain": [
              "(360, 512, 62)"
            ]
          },
          "metadata": {},
          "execution_count": 62
        }
      ],
      "source": [
        "import scipy.io as sio\n",
        "import numpy as np\n",
        "import pandas as pd\n",
        "import tensorflow as tf\n",
        "from tensorflow import keras\n",
        "from tensorflow.keras import layers\n",
        "import matplotlib.pyplot as plt\n",
        "from tensorflow.keras.models import Model\n",
        "from sklearn.preprocessing import StandardScaler\n",
        "from sklearn.model_selection import train_test_split\n",
        "from sklearn.model_selection import KFold\n",
        "from sklearn.preprocessing import StandardScaler\n",
        "\n",
        "\n",
        "# Loading the data\n",
        "data_set = sio.loadmat(\"WLDataCW.mat\")\n",
        "\n",
        "X_data = data_set['data']\n",
        "\n",
        "X_data.shape\n",
        "\n",
        "X_data = np.transpose(X_data)\n",
        "\n",
        "X_data.shape\n"
      ]
    },
    {
      "cell_type": "code",
      "source": [
        "\n",
        "labels = data_set['label']\n",
        "\n",
        "labels.shape\n",
        "\n",
        "labels = np.transpose(labels)\n",
        "\n",
        "labels.shape"
      ],
      "metadata": {
        "colab": {
          "base_uri": "https://localhost:8080/"
        },
        "id": "WOIrczmQmGPk",
        "outputId": "1080b549-2284-4ff0-9d2b-9724b270acf6"
      },
      "execution_count": 63,
      "outputs": [
        {
          "output_type": "execute_result",
          "data": {
            "text/plain": [
              "(360, 1)"
            ]
          },
          "metadata": {},
          "execution_count": 63
        }
      ]
    },
    {
      "cell_type": "code",
      "source": [
        "\n",
        "len(X_data)\n",
        "\n",
        "len(labels)\n"
      ],
      "metadata": {
        "colab": {
          "base_uri": "https://localhost:8080/"
        },
        "id": "DevsZjODmE3G",
        "outputId": "3a00e513-066b-4068-9911-884d27a83e38"
      },
      "execution_count": 64,
      "outputs": [
        {
          "output_type": "execute_result",
          "data": {
            "text/plain": [
              "360"
            ]
          },
          "metadata": {},
          "execution_count": 64
        }
      ]
    },
    {
      "cell_type": "code",
      "source": [
        "\n",
        "# Initialize the StandardScaler object and  Reshaping the input data\n",
        "\n",
        "scalerobj = StandardScaler()\n",
        "X_transformed = scalerobj.fit_transform(X_data.reshape(-1, X_data.shape[-1])).reshape(X_data.shape)\n",
        "\n",
        "X_transformed.shape"
      ],
      "metadata": {
        "colab": {
          "base_uri": "https://localhost:8080/"
        },
        "id": "7rgr6FepjlsX",
        "outputId": "b7b06e91-002f-4c5d-cbe0-da286d2cf8ba"
      },
      "execution_count": 65,
      "outputs": [
        {
          "output_type": "execute_result",
          "data": {
            "text/plain": [
              "(360, 512, 62)"
            ]
          },
          "metadata": {},
          "execution_count": 65
        }
      ]
    },
    {
      "cell_type": "code",
      "source": [
        "\n",
        "# Perform data preprocessing and split the data into training and testing sets for model training and evaluation.\n",
        "\n",
        "x_train, x_test, y_train, y_test = train_test_split(X_transformed, labels, test_size=0.2, random_state=42)"
      ],
      "metadata": {
        "id": "E6o4G4dFjtwB"
      },
      "execution_count": 66,
      "outputs": []
    },
    {
      "cell_type": "code",
      "source": [
        "# Initializing the Sequential model and adding multiple convolutional layers\n",
        "\n",
        "\n",
        "model_neuralnetwork = keras.Sequential()\n",
        "\n",
        "model_neuralnetwork.add(layers.Conv1D(filters=5, kernel_size=3, strides=1, input_shape=(512, 62)))  # 1\n",
        "model_neuralnetwork.add(layers.BatchNormalization())\n",
        "model_neuralnetwork.add(layers.LeakyReLU())\n",
        "model_neuralnetwork.add(layers.MaxPool1D(pool_size=2, strides=2))\n",
        "\n",
        "model_neuralnetwork.add(layers.Conv1D(filters=5, kernel_size=3, strides=1))  # 2\n",
        "model_neuralnetwork.add(layers.LeakyReLU())\n",
        "model_neuralnetwork.add(layers.MaxPool1D(pool_size=2, strides=2))\n",
        "model_neuralnetwork.add(layers.Dropout(0.5))\n",
        "\n",
        "model_neuralnetwork.add(layers.Conv1D(filters=5, kernel_size=3, strides=1))  # 3\n",
        "model_neuralnetwork.add(layers.LeakyReLU())\n",
        "model_neuralnetwork.add(layers.AveragePooling1D(pool_size=2, strides=2))\n",
        "model_neuralnetwork.add(layers.Dropout(0.5))\n",
        "\n",
        "model_neuralnetwork.add(layers.Conv1D(filters=5, kernel_size=3, strides=1))  # 4\n",
        "model_neuralnetwork.add(layers.LeakyReLU())\n",
        "model_neuralnetwork.add(layers.AveragePooling1D(pool_size=2, strides=2))\n",
        "\n",
        "model_neuralnetwork.add(layers.Conv1D(filters=5, kernel_size=3, strides=1))  # 5\n",
        "model_neuralnetwork.add(layers.LeakyReLU())\n",
        "model_neuralnetwork.add(layers.GlobalAveragePooling1D())\n",
        "\n",
        "# Flatten the output\n",
        "\n",
        "model_neuralnetwork.add(layers.Flatten())\n",
        "\n",
        "model_neuralnetwork.add(layers.Dense(128, activation='sigmoid'))\n",
        "model_neuralnetwork.add(layers.Dense(1, activation='sigmoid'))\n",
        "\n",
        "model_neuralnetwork.compile(loss='binary_crossentropy', optimizer=keras.optimizers.Adam(learning_rate=0.001), metrics=['accuracy'])\n",
        "\n",
        "model_neuralnetwork.summary()"
      ],
      "metadata": {
        "colab": {
          "base_uri": "https://localhost:8080/"
        },
        "id": "s-86FKLoj1UH",
        "outputId": "e7ac14a6-572b-429c-cb52-bbb1c2e1d1d5"
      },
      "execution_count": 67,
      "outputs": [
        {
          "output_type": "stream",
          "name": "stdout",
          "text": [
            "Model: \"sequential_11\"\n",
            "_________________________________________________________________\n",
            " Layer (type)                Output Shape              Param #   \n",
            "=================================================================\n",
            " conv1d_55 (Conv1D)          (None, 510, 5)            935       \n",
            "                                                                 \n",
            " batch_normalization_11 (Ba  (None, 510, 5)            20        \n",
            " tchNormalization)                                               \n",
            "                                                                 \n",
            " leaky_re_lu_55 (LeakyReLU)  (None, 510, 5)            0         \n",
            "                                                                 \n",
            " max_pooling1d_22 (MaxPooli  (None, 255, 5)            0         \n",
            " ng1D)                                                           \n",
            "                                                                 \n",
            " conv1d_56 (Conv1D)          (None, 253, 5)            80        \n",
            "                                                                 \n",
            " leaky_re_lu_56 (LeakyReLU)  (None, 253, 5)            0         \n",
            "                                                                 \n",
            " max_pooling1d_23 (MaxPooli  (None, 126, 5)            0         \n",
            " ng1D)                                                           \n",
            "                                                                 \n",
            " dropout_22 (Dropout)        (None, 126, 5)            0         \n",
            "                                                                 \n",
            " conv1d_57 (Conv1D)          (None, 124, 5)            80        \n",
            "                                                                 \n",
            " leaky_re_lu_57 (LeakyReLU)  (None, 124, 5)            0         \n",
            "                                                                 \n",
            " average_pooling1d_22 (Aver  (None, 62, 5)             0         \n",
            " agePooling1D)                                                   \n",
            "                                                                 \n",
            " dropout_23 (Dropout)        (None, 62, 5)             0         \n",
            "                                                                 \n",
            " conv1d_58 (Conv1D)          (None, 60, 5)             80        \n",
            "                                                                 \n",
            " leaky_re_lu_58 (LeakyReLU)  (None, 60, 5)             0         \n",
            "                                                                 \n",
            " average_pooling1d_23 (Aver  (None, 30, 5)             0         \n",
            " agePooling1D)                                                   \n",
            "                                                                 \n",
            " conv1d_59 (Conv1D)          (None, 28, 5)             80        \n",
            "                                                                 \n",
            " leaky_re_lu_59 (LeakyReLU)  (None, 28, 5)             0         \n",
            "                                                                 \n",
            " global_average_pooling1d_1  (None, 5)                 0         \n",
            " 1 (GlobalAveragePooling1D)                                      \n",
            "                                                                 \n",
            " flatten_11 (Flatten)        (None, 5)                 0         \n",
            "                                                                 \n",
            " dense_22 (Dense)            (None, 128)               768       \n",
            "                                                                 \n",
            " dense_23 (Dense)            (None, 1)                 129       \n",
            "                                                                 \n",
            "=================================================================\n",
            "Total params: 2172 (8.48 KB)\n",
            "Trainable params: 2162 (8.45 KB)\n",
            "Non-trainable params: 10 (40.00 Byte)\n",
            "_________________________________________________________________\n"
          ]
        }
      ]
    },
    {
      "cell_type": "code",
      "source": [
        "# Performing 5-fold cross-validation\n",
        "\n",
        "kf = KFold(n_splits=5)\n",
        "\n",
        "X_transformed.shape\n",
        "\n",
        "accuracy_list = []\n",
        "validation_accuracy_list = []\n",
        "\n",
        "for train_index, test_index in kf.split(x_train, y_train):\n",
        "    X_train_fold, X_test_fold = x_train[train_index], x_train[test_index]\n",
        "    y_train_fold, y_test_fold = y_train[train_index], y_train[test_index]\n",
        "\n",
        "    history_fold = model_neuralnetwork.fit(X_train_fold, y_train_fold, epochs=10, batch_size=64, validation_data=(X_test_fold, y_test_fold))\n",
        "    validation_accuracy_list.append(history_fold.history['val_accuracy'][len(history_fold.history['val_accuracy']) - 1])\n",
        "    print(validation_accuracy_list)\n",
        "\n",
        "\n",
        "mean_validation_accuracy = np.mean(validation_accuracy_list)\n",
        "print(\"Mean Validation Accuracy:\", mean_validation_accuracy)\n",
        "\n",
        "\n",
        "history_final = model_neuralnetwork.fit(x_train, y_train, epochs=50, batch_size=64, validation_data=(x_test, y_test))\n",
        "\n",
        "plt.plot(history_final.history['accuracy'], label='train_accuracy')\n",
        "plt.plot(history_final.history['val_accuracy'], label='val_accuracy')\n",
        "plt.xlabel('Epoch')\n",
        "plt.ylabel('Accuracy')\n",
        "plt.legend(loc='lower right')\n",
        "plt.savefig('accuracy_plot.pdf', dpi=1200)"
      ],
      "metadata": {
        "colab": {
          "base_uri": "https://localhost:8080/",
          "height": 1000
        },
        "id": "gTeil8_1kHok",
        "outputId": "c42769fb-bd14-4e75-d524-f456545d7f3a"
      },
      "execution_count": 68,
      "outputs": [
        {
          "output_type": "stream",
          "name": "stdout",
          "text": [
            "Epoch 1/10\n",
            "4/4 [==============================] - 2s 133ms/step - loss: 0.7050 - accuracy: 0.4913 - val_loss: 0.6927 - val_accuracy: 0.5172\n",
            "Epoch 2/10\n",
            "4/4 [==============================] - 0s 50ms/step - loss: 0.6948 - accuracy: 0.4913 - val_loss: 0.6929 - val_accuracy: 0.4828\n",
            "Epoch 3/10\n",
            "4/4 [==============================] - 0s 48ms/step - loss: 0.6928 - accuracy: 0.5087 - val_loss: 0.6963 - val_accuracy: 0.4828\n",
            "Epoch 4/10\n",
            "4/4 [==============================] - 0s 52ms/step - loss: 0.6933 - accuracy: 0.5087 - val_loss: 0.6948 - val_accuracy: 0.4828\n",
            "Epoch 5/10\n",
            "4/4 [==============================] - 0s 78ms/step - loss: 0.6924 - accuracy: 0.5087 - val_loss: 0.6932 - val_accuracy: 0.4828\n",
            "Epoch 6/10\n",
            "4/4 [==============================] - 0s 91ms/step - loss: 0.6913 - accuracy: 0.5087 - val_loss: 0.6901 - val_accuracy: 0.4828\n",
            "Epoch 7/10\n",
            "4/4 [==============================] - 0s 89ms/step - loss: 0.6899 - accuracy: 0.5261 - val_loss: 0.6878 - val_accuracy: 0.7069\n",
            "Epoch 8/10\n",
            "4/4 [==============================] - 0s 87ms/step - loss: 0.6884 - accuracy: 0.6913 - val_loss: 0.6855 - val_accuracy: 0.6379\n",
            "Epoch 9/10\n",
            "4/4 [==============================] - 0s 91ms/step - loss: 0.6862 - accuracy: 0.7174 - val_loss: 0.6826 - val_accuracy: 0.7241\n",
            "Epoch 10/10\n",
            "4/4 [==============================] - 0s 90ms/step - loss: 0.6846 - accuracy: 0.6783 - val_loss: 0.6786 - val_accuracy: 0.7069\n",
            "[0.7068965435028076]\n",
            "Epoch 1/10\n",
            "4/4 [==============================] - 0s 85ms/step - loss: 0.6791 - accuracy: 0.5913 - val_loss: 0.6786 - val_accuracy: 0.7931\n",
            "Epoch 2/10\n",
            "4/4 [==============================] - 0s 47ms/step - loss: 0.6740 - accuracy: 0.6739 - val_loss: 0.6744 - val_accuracy: 0.7759\n",
            "Epoch 3/10\n",
            "4/4 [==============================] - 0s 48ms/step - loss: 0.6696 - accuracy: 0.7348 - val_loss: 0.6677 - val_accuracy: 0.7586\n",
            "Epoch 4/10\n",
            "4/4 [==============================] - 0s 52ms/step - loss: 0.6640 - accuracy: 0.6957 - val_loss: 0.6605 - val_accuracy: 0.7759\n",
            "Epoch 5/10\n",
            "4/4 [==============================] - 0s 49ms/step - loss: 0.6582 - accuracy: 0.7130 - val_loss: 0.6560 - val_accuracy: 0.7586\n",
            "Epoch 6/10\n",
            "4/4 [==============================] - 0s 49ms/step - loss: 0.6490 - accuracy: 0.7217 - val_loss: 0.6516 - val_accuracy: 0.7931\n",
            "Epoch 7/10\n",
            "4/4 [==============================] - 0s 46ms/step - loss: 0.6468 - accuracy: 0.7435 - val_loss: 0.6411 - val_accuracy: 0.7759\n",
            "Epoch 8/10\n",
            "4/4 [==============================] - 0s 48ms/step - loss: 0.6318 - accuracy: 0.7391 - val_loss: 0.6291 - val_accuracy: 0.7586\n",
            "Epoch 9/10\n",
            "4/4 [==============================] - 0s 49ms/step - loss: 0.6217 - accuracy: 0.7348 - val_loss: 0.6186 - val_accuracy: 0.7241\n",
            "Epoch 10/10\n",
            "4/4 [==============================] - 0s 45ms/step - loss: 0.6050 - accuracy: 0.7522 - val_loss: 0.6059 - val_accuracy: 0.7241\n",
            "[0.7068965435028076, 0.7241379022598267]\n",
            "Epoch 1/10\n",
            "4/4 [==============================] - 0s 66ms/step - loss: 0.6045 - accuracy: 0.7217 - val_loss: 0.5639 - val_accuracy: 0.7586\n",
            "Epoch 2/10\n",
            "4/4 [==============================] - 0s 46ms/step - loss: 0.5795 - accuracy: 0.7739 - val_loss: 0.5519 - val_accuracy: 0.7586\n",
            "Epoch 3/10\n",
            "4/4 [==============================] - 0s 49ms/step - loss: 0.5651 - accuracy: 0.7435 - val_loss: 0.5353 - val_accuracy: 0.7931\n",
            "Epoch 4/10\n",
            "4/4 [==============================] - 0s 52ms/step - loss: 0.5558 - accuracy: 0.7739 - val_loss: 0.5157 - val_accuracy: 0.7931\n",
            "Epoch 5/10\n",
            "4/4 [==============================] - 0s 47ms/step - loss: 0.5065 - accuracy: 0.8435 - val_loss: 0.4963 - val_accuracy: 0.8103\n",
            "Epoch 6/10\n",
            "4/4 [==============================] - 0s 46ms/step - loss: 0.4795 - accuracy: 0.8217 - val_loss: 0.4735 - val_accuracy: 0.7931\n",
            "Epoch 7/10\n",
            "4/4 [==============================] - 0s 46ms/step - loss: 0.4591 - accuracy: 0.8609 - val_loss: 0.4521 - val_accuracy: 0.8103\n",
            "Epoch 8/10\n",
            "4/4 [==============================] - 0s 50ms/step - loss: 0.4149 - accuracy: 0.8739 - val_loss: 0.4312 - val_accuracy: 0.8621\n",
            "Epoch 9/10\n",
            "4/4 [==============================] - 0s 51ms/step - loss: 0.3937 - accuracy: 0.8913 - val_loss: 0.4113 - val_accuracy: 0.8793\n",
            "Epoch 10/10\n",
            "4/4 [==============================] - 0s 44ms/step - loss: 0.3726 - accuracy: 0.8826 - val_loss: 0.3968 - val_accuracy: 0.8793\n",
            "[0.7068965435028076, 0.7241379022598267, 0.8793103694915771]\n",
            "Epoch 1/10\n",
            "4/4 [==============================] - 0s 65ms/step - loss: 0.3791 - accuracy: 0.9048 - val_loss: 0.3340 - val_accuracy: 0.8772\n",
            "Epoch 2/10\n",
            "4/4 [==============================] - 0s 47ms/step - loss: 0.3717 - accuracy: 0.8745 - val_loss: 0.3618 - val_accuracy: 0.8421\n",
            "Epoch 3/10\n",
            "4/4 [==============================] - 0s 46ms/step - loss: 0.3530 - accuracy: 0.8918 - val_loss: 0.3250 - val_accuracy: 0.8947\n",
            "Epoch 4/10\n",
            "4/4 [==============================] - 0s 47ms/step - loss: 0.3226 - accuracy: 0.9048 - val_loss: 0.2973 - val_accuracy: 0.9123\n",
            "Epoch 5/10\n",
            "4/4 [==============================] - 0s 48ms/step - loss: 0.3317 - accuracy: 0.8874 - val_loss: 0.3198 - val_accuracy: 0.8772\n",
            "Epoch 6/10\n",
            "4/4 [==============================] - 0s 49ms/step - loss: 0.3065 - accuracy: 0.8961 - val_loss: 0.3356 - val_accuracy: 0.8947\n",
            "Epoch 7/10\n",
            "4/4 [==============================] - 0s 47ms/step - loss: 0.3171 - accuracy: 0.8745 - val_loss: 0.3695 - val_accuracy: 0.8947\n",
            "Epoch 8/10\n",
            "4/4 [==============================] - 0s 46ms/step - loss: 0.2845 - accuracy: 0.9177 - val_loss: 0.3752 - val_accuracy: 0.8772\n",
            "Epoch 9/10\n",
            "4/4 [==============================] - 0s 45ms/step - loss: 0.2746 - accuracy: 0.9177 - val_loss: 0.3164 - val_accuracy: 0.8947\n",
            "Epoch 10/10\n",
            "4/4 [==============================] - 0s 45ms/step - loss: 0.3024 - accuracy: 0.8831 - val_loss: 0.2943 - val_accuracy: 0.8947\n",
            "[0.7068965435028076, 0.7241379022598267, 0.8793103694915771, 0.8947368264198303]\n",
            "Epoch 1/10\n",
            "4/4 [==============================] - 0s 68ms/step - loss: 0.2745 - accuracy: 0.9091 - val_loss: 0.3821 - val_accuracy: 0.8947\n",
            "Epoch 2/10\n",
            "4/4 [==============================] - 0s 47ms/step - loss: 0.2608 - accuracy: 0.9091 - val_loss: 0.3630 - val_accuracy: 0.9123\n",
            "Epoch 3/10\n",
            "4/4 [==============================] - 0s 46ms/step - loss: 0.2402 - accuracy: 0.9264 - val_loss: 0.3690 - val_accuracy: 0.9123\n",
            "Epoch 4/10\n",
            "4/4 [==============================] - 0s 45ms/step - loss: 0.2493 - accuracy: 0.9134 - val_loss: 0.4505 - val_accuracy: 0.8772\n",
            "Epoch 5/10\n",
            "4/4 [==============================] - 0s 46ms/step - loss: 0.2145 - accuracy: 0.9307 - val_loss: 0.4944 - val_accuracy: 0.8246\n",
            "Epoch 6/10\n",
            "4/4 [==============================] - 0s 48ms/step - loss: 0.2385 - accuracy: 0.9221 - val_loss: 0.4785 - val_accuracy: 0.8421\n",
            "Epoch 7/10\n",
            "4/4 [==============================] - 0s 48ms/step - loss: 0.2351 - accuracy: 0.9351 - val_loss: 0.4577 - val_accuracy: 0.8596\n",
            "Epoch 8/10\n",
            "4/4 [==============================] - 0s 48ms/step - loss: 0.2187 - accuracy: 0.9307 - val_loss: 0.4334 - val_accuracy: 0.8947\n",
            "Epoch 9/10\n",
            "4/4 [==============================] - 0s 46ms/step - loss: 0.2242 - accuracy: 0.9307 - val_loss: 0.4538 - val_accuracy: 0.8596\n",
            "Epoch 10/10\n",
            "4/4 [==============================] - 0s 48ms/step - loss: 0.2151 - accuracy: 0.9524 - val_loss: 0.4997 - val_accuracy: 0.8246\n",
            "[0.7068965435028076, 0.7241379022598267, 0.8793103694915771, 0.8947368264198303, 0.8245614171028137]\n",
            "Mean Validation Accuracy: 0.8059286117553711\n",
            "Epoch 1/50\n",
            "5/5 [==============================] - 0s 62ms/step - loss: 0.2335 - accuracy: 0.9375 - val_loss: 0.2383 - val_accuracy: 0.8889\n",
            "Epoch 2/50\n",
            "5/5 [==============================] - 0s 45ms/step - loss: 0.2345 - accuracy: 0.9444 - val_loss: 0.2464 - val_accuracy: 0.9167\n",
            "Epoch 3/50\n",
            "5/5 [==============================] - 0s 47ms/step - loss: 0.2446 - accuracy: 0.9062 - val_loss: 0.2405 - val_accuracy: 0.8889\n",
            "Epoch 4/50\n",
            "5/5 [==============================] - 0s 46ms/step - loss: 0.2161 - accuracy: 0.9340 - val_loss: 0.2457 - val_accuracy: 0.8889\n",
            "Epoch 5/50\n",
            "5/5 [==============================] - 0s 60ms/step - loss: 0.1803 - accuracy: 0.9514 - val_loss: 0.2292 - val_accuracy: 0.9167\n",
            "Epoch 6/50\n",
            "5/5 [==============================] - 0s 67ms/step - loss: 0.2248 - accuracy: 0.9306 - val_loss: 0.2401 - val_accuracy: 0.9167\n",
            "Epoch 7/50\n",
            "5/5 [==============================] - 0s 72ms/step - loss: 0.2040 - accuracy: 0.9271 - val_loss: 0.2506 - val_accuracy: 0.9167\n",
            "Epoch 8/50\n",
            "5/5 [==============================] - 0s 84ms/step - loss: 0.2395 - accuracy: 0.9271 - val_loss: 0.2594 - val_accuracy: 0.9028\n",
            "Epoch 9/50\n",
            "5/5 [==============================] - 0s 80ms/step - loss: 0.2362 - accuracy: 0.9306 - val_loss: 0.2429 - val_accuracy: 0.9167\n",
            "Epoch 10/50\n",
            "5/5 [==============================] - 0s 74ms/step - loss: 0.2200 - accuracy: 0.9271 - val_loss: 0.2304 - val_accuracy: 0.9028\n",
            "Epoch 11/50\n",
            "5/5 [==============================] - 0s 85ms/step - loss: 0.2097 - accuracy: 0.9340 - val_loss: 0.2083 - val_accuracy: 0.9167\n",
            "Epoch 12/50\n",
            "5/5 [==============================] - 0s 64ms/step - loss: 0.1993 - accuracy: 0.9271 - val_loss: 0.2128 - val_accuracy: 0.9028\n",
            "Epoch 13/50\n",
            "5/5 [==============================] - 0s 46ms/step - loss: 0.2456 - accuracy: 0.9306 - val_loss: 0.2261 - val_accuracy: 0.9028\n",
            "Epoch 14/50\n",
            "5/5 [==============================] - 0s 46ms/step - loss: 0.2137 - accuracy: 0.9444 - val_loss: 0.2071 - val_accuracy: 0.9028\n",
            "Epoch 15/50\n",
            "5/5 [==============================] - 0s 45ms/step - loss: 0.1929 - accuracy: 0.9444 - val_loss: 0.2117 - val_accuracy: 0.9167\n",
            "Epoch 16/50\n",
            "5/5 [==============================] - 0s 45ms/step - loss: 0.2350 - accuracy: 0.9236 - val_loss: 0.2212 - val_accuracy: 0.9306\n",
            "Epoch 17/50\n",
            "5/5 [==============================] - 0s 47ms/step - loss: 0.1820 - accuracy: 0.9444 - val_loss: 0.2297 - val_accuracy: 0.9167\n",
            "Epoch 18/50\n",
            "5/5 [==============================] - 0s 48ms/step - loss: 0.2012 - accuracy: 0.9410 - val_loss: 0.2600 - val_accuracy: 0.8889\n",
            "Epoch 19/50\n",
            "5/5 [==============================] - 0s 49ms/step - loss: 0.1889 - accuracy: 0.9514 - val_loss: 0.2514 - val_accuracy: 0.9028\n",
            "Epoch 20/50\n",
            "5/5 [==============================] - 0s 46ms/step - loss: 0.2184 - accuracy: 0.9340 - val_loss: 0.2403 - val_accuracy: 0.9306\n",
            "Epoch 21/50\n",
            "5/5 [==============================] - 0s 46ms/step - loss: 0.1957 - accuracy: 0.9410 - val_loss: 0.2075 - val_accuracy: 0.9306\n",
            "Epoch 22/50\n",
            "5/5 [==============================] - 0s 46ms/step - loss: 0.1400 - accuracy: 0.9653 - val_loss: 0.2094 - val_accuracy: 0.9444\n",
            "Epoch 23/50\n",
            "5/5 [==============================] - 0s 49ms/step - loss: 0.1881 - accuracy: 0.9340 - val_loss: 0.2178 - val_accuracy: 0.9444\n",
            "Epoch 24/50\n",
            "5/5 [==============================] - 0s 46ms/step - loss: 0.1772 - accuracy: 0.9514 - val_loss: 0.2069 - val_accuracy: 0.9444\n",
            "Epoch 25/50\n",
            "5/5 [==============================] - 0s 46ms/step - loss: 0.1672 - accuracy: 0.9549 - val_loss: 0.1920 - val_accuracy: 0.9444\n",
            "Epoch 26/50\n",
            "5/5 [==============================] - 0s 47ms/step - loss: 0.1733 - accuracy: 0.9514 - val_loss: 0.1933 - val_accuracy: 0.9306\n",
            "Epoch 27/50\n",
            "5/5 [==============================] - 0s 46ms/step - loss: 0.1994 - accuracy: 0.9375 - val_loss: 0.2194 - val_accuracy: 0.9167\n",
            "Epoch 28/50\n",
            "5/5 [==============================] - 0s 48ms/step - loss: 0.1844 - accuracy: 0.9444 - val_loss: 0.2117 - val_accuracy: 0.9306\n",
            "Epoch 29/50\n",
            "5/5 [==============================] - 0s 46ms/step - loss: 0.1783 - accuracy: 0.9583 - val_loss: 0.2185 - val_accuracy: 0.9306\n",
            "Epoch 30/50\n",
            "5/5 [==============================] - 0s 48ms/step - loss: 0.1678 - accuracy: 0.9618 - val_loss: 0.1852 - val_accuracy: 0.9444\n",
            "Epoch 31/50\n",
            "5/5 [==============================] - 0s 47ms/step - loss: 0.1576 - accuracy: 0.9549 - val_loss: 0.1840 - val_accuracy: 0.9444\n",
            "Epoch 32/50\n",
            "5/5 [==============================] - 0s 49ms/step - loss: 0.1437 - accuracy: 0.9583 - val_loss: 0.1988 - val_accuracy: 0.9444\n",
            "Epoch 33/50\n",
            "5/5 [==============================] - 0s 44ms/step - loss: 0.1853 - accuracy: 0.9410 - val_loss: 0.2344 - val_accuracy: 0.9167\n",
            "Epoch 34/50\n",
            "5/5 [==============================] - 0s 46ms/step - loss: 0.1826 - accuracy: 0.9479 - val_loss: 0.2138 - val_accuracy: 0.9306\n",
            "Epoch 35/50\n",
            "5/5 [==============================] - 0s 47ms/step - loss: 0.1806 - accuracy: 0.9444 - val_loss: 0.2005 - val_accuracy: 0.9167\n",
            "Epoch 36/50\n",
            "5/5 [==============================] - 0s 45ms/step - loss: 0.1697 - accuracy: 0.9479 - val_loss: 0.1914 - val_accuracy: 0.9306\n",
            "Epoch 37/50\n",
            "5/5 [==============================] - 0s 59ms/step - loss: 0.1450 - accuracy: 0.9514 - val_loss: 0.1859 - val_accuracy: 0.9444\n",
            "Epoch 38/50\n",
            "5/5 [==============================] - 0s 46ms/step - loss: 0.1928 - accuracy: 0.9514 - val_loss: 0.1953 - val_accuracy: 0.9444\n",
            "Epoch 39/50\n",
            "5/5 [==============================] - 0s 46ms/step - loss: 0.1676 - accuracy: 0.9549 - val_loss: 0.1897 - val_accuracy: 0.9444\n",
            "Epoch 40/50\n",
            "5/5 [==============================] - 0s 46ms/step - loss: 0.1784 - accuracy: 0.9549 - val_loss: 0.1947 - val_accuracy: 0.9306\n",
            "Epoch 41/50\n",
            "5/5 [==============================] - 0s 52ms/step - loss: 0.1589 - accuracy: 0.9444 - val_loss: 0.2175 - val_accuracy: 0.9028\n",
            "Epoch 42/50\n",
            "5/5 [==============================] - 0s 44ms/step - loss: 0.1667 - accuracy: 0.9514 - val_loss: 0.2643 - val_accuracy: 0.8750\n",
            "Epoch 43/50\n",
            "5/5 [==============================] - 0s 48ms/step - loss: 0.1897 - accuracy: 0.9306 - val_loss: 0.2344 - val_accuracy: 0.9167\n",
            "Epoch 44/50\n",
            "5/5 [==============================] - 0s 47ms/step - loss: 0.1594 - accuracy: 0.9618 - val_loss: 0.1845 - val_accuracy: 0.9306\n",
            "Epoch 45/50\n",
            "5/5 [==============================] - 0s 50ms/step - loss: 0.1704 - accuracy: 0.9410 - val_loss: 0.1730 - val_accuracy: 0.9306\n",
            "Epoch 46/50\n",
            "5/5 [==============================] - 0s 46ms/step - loss: 0.1679 - accuracy: 0.9514 - val_loss: 0.1899 - val_accuracy: 0.9306\n",
            "Epoch 47/50\n",
            "5/5 [==============================] - 0s 47ms/step - loss: 0.1590 - accuracy: 0.9549 - val_loss: 0.1939 - val_accuracy: 0.9306\n",
            "Epoch 48/50\n",
            "5/5 [==============================] - 0s 46ms/step - loss: 0.1543 - accuracy: 0.9583 - val_loss: 0.1825 - val_accuracy: 0.9444\n",
            "Epoch 49/50\n",
            "5/5 [==============================] - 0s 45ms/step - loss: 0.1671 - accuracy: 0.9444 - val_loss: 0.1772 - val_accuracy: 0.9444\n",
            "Epoch 50/50\n",
            "5/5 [==============================] - 0s 47ms/step - loss: 0.1422 - accuracy: 0.9688 - val_loss: 0.1765 - val_accuracy: 0.9306\n"
          ]
        },
        {
          "output_type": "display_data",
          "data": {
            "text/plain": [
              "<Figure size 640x480 with 1 Axes>"
            ],
            "image/png": "[encoded data removed]"
          },
          "metadata": {}
        }
      ]
    }
  ]
}